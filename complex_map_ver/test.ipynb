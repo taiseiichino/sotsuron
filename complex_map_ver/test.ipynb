{
 "cells": [
  {
   "cell_type": "code",
   "execution_count": 3,
   "metadata": {},
   "outputs": [],
   "source": [
    "\n",
    "#他ファイルからのimport\n",
    "from cmath import cos\n",
    "from gym.envs.registration import register#環境の登録\n",
    "from stochastic_cliff_env import StochasticCliffWalkingEnv  # カスタム環境をインポート\n",
    "from custom_maps import get_custom_map, get_custom_map_comp#カスタムマップをインポート\n",
    "from policy_agent_comp import Policy1, Policy2, Agent\n",
    "import math\n",
    "import gym#カスタム環境をロードするために必要\n",
    "import numpy as np\n",
    "import os\n",
    "from datetime import datetime\n",
    "import pandas as pd\n",
    "#プロット\n",
    "import matplotlib.pyplot as plt"
   ]
  },
  {
   "cell_type": "code",
   "execution_count": 4,
   "metadata": {},
   "outputs": [],
   "source": [
    "# カスタムマップの定義\n",
    "custom_grid = get_custom_map_comp()\n",
    "\n",
    "# 環境を登録\n",
    "register(\n",
    "    id='StochasticCliffWalking-v0',  # 環境ID\n",
    "    entry_point='stochastic_cliff_env:StochasticCliffWalkingEnv',  # 環境クラスへのパス\n",
    "    kwargs={'grid': custom_grid, 'slip_prob': 0.0},  # 環境に渡すパラメータ\n",
    ")\n",
    "\n",
    "# 登録済みのカスタム環境をロード\n",
    "env = gym.make('StochasticCliffWalking-v0')\n"
   ]
  },
  {
   "cell_type": "code",
   "execution_count": 13,
   "metadata": {},
   "outputs": [
    {
     "data": {
      "text/plain": [
       "int"
      ]
     },
     "execution_count": 13,
     "metadata": {},
     "output_type": "execute_result"
    }
   ],
   "source": [
    "type(env.grid.shape[0]*env.grid.shape[1])"
   ]
  },
  {
   "cell_type": "code",
   "execution_count": 11,
   "metadata": {},
   "outputs": [
    {
     "data": {
      "text/plain": [
       "Discrete(48)"
      ]
     },
     "execution_count": 11,
     "metadata": {},
     "output_type": "execute_result"
    }
   ],
   "source": [
    "env.observation_space"
   ]
  },
  {
   "cell_type": "code",
   "execution_count": null,
   "metadata": {},
   "outputs": [],
   "source": []
  }
 ],
 "metadata": {
  "kernelspec": {
   "display_name": "py3913",
   "language": "python",
   "name": "python3"
  },
  "language_info": {
   "codemirror_mode": {
    "name": "ipython",
    "version": 3
   },
   "file_extension": ".py",
   "mimetype": "text/x-python",
   "name": "python",
   "nbconvert_exporter": "python",
   "pygments_lexer": "ipython3",
   "version": "3.9.20"
  }
 },
 "nbformat": 4,
 "nbformat_minor": 2
}
